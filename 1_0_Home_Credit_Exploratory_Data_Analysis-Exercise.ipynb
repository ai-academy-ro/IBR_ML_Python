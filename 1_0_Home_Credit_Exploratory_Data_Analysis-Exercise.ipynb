{
  "cells": [
    {
      "cell_type": "code",
      "execution_count": 1,
      "metadata": {
        "id": "b0Xx4Om8qSxs"
      },
      "outputs": [],
      "source": [
        "# Data Preparation Libraries\n",
        "import pandas as pd\n",
        "import numpy as np\n",
        "import datetime\n",
        "\n",
        "# Plot and Visualisations\n",
        "import matplotlib\n",
        "import matplotlib.pyplot as plt\n",
        "import seaborn as sns\n",
        "import bokeh\n",
        "%matplotlib inline\n",
        "\n",
        "# Notebook settings\n",
        "import warnings\n",
        "pd.set_option('display.max_rows', 300)\n",
        "pd.set_option('display.max_columns', 300)\n",
        "warnings.filterwarnings('ignore')\n",
        "import gc\n",
        "\n",
        "# Modelling libraries\n",
        "from xgboost.sklearn import XGBClassifier\n",
        "from sklearn import metrics\n",
        "from sklearn.metrics import confusion_matrix\n",
        "from sklearn.metrics import classification_report\n",
        "from sklearn.metrics import precision_score, recall_score, f1_score, roc_auc_score"
      ]
    },
    {
      "cell_type": "code",
      "execution_count": null,
      "metadata": {
        "id": "iRUrZx41qSxt"
      },
      "outputs": [],
      "source": [
        "from pydrive2.auth import GoogleAuth\n",
        "from pydrive2.drive import GoogleDrive\n",
        "from google.colab import auth\n",
        "from oauth2client.client import GoogleCredentials\n",
        "\n",
        "auth.authenticate_user()\n",
        "gauth = GoogleAuth()\n",
        "gauth.credentials = GoogleCredentials.get_application_default()\n",
        "drive = GoogleDrive(gauth)\n",
        "#aici trebuie sa intro pe un link, sa alegi contul google si sa copiezi un cod pe care il pui in colab"
      ]
    },
    {
      "cell_type": "code",
      "execution_count": null,
      "metadata": {
        "id": "0OeGJv1qqSxu"
      },
      "outputs": [],
      "source": [
        "link = 'https://drive.google.com/file/d/1fdaLdYnFa3Ivp_O852Gfl48UWPEFybHd/view?usp=sharing' # linkul direct de la share\n",
        "\n",
        "import pandas as pd\n",
        "\n",
        "# to get the id part of the file\n",
        "id = link.split(\"/\")[-2]\n",
        "filename= 'previous_application.csv'\n",
        "\n",
        "downloaded = drive.CreateFile({'id':id})\n",
        "downloaded.GetContentFile('previous_application.csv')"
      ]
    },
    {
      "cell_type": "markdown",
      "metadata": {
        "id": "MRc1CQNoqSxu"
      },
      "source": [
        "# Data Structure"
      ]
    },
    {
      "cell_type": "markdown",
      "metadata": {
        "id": "RbmA_M1kqSxu"
      },
      "source": [
        "<img src=\"https://storage.googleapis.com/kaggle-media/competitions/home-credit/home_credit.png\" style=\"width:1000px;height:600px\"/>"
      ]
    },
    {
      "cell_type": "markdown",
      "metadata": {
        "id": "9Cmw0rakqSxv"
      },
      "source": [
        "### First Glimpse of Data"
      ]
    },
    {
      "cell_type": "code",
      "execution_count": null,
      "metadata": {
        "id": "QRmgU6oXqSxv"
      },
      "outputs": [],
      "source": [
        "train = pd.read_csv('previous_application.csv')\n",
        "\n",
        "train.head()"
      ]
    },
    {
      "cell_type": "code",
      "execution_count": null,
      "metadata": {
        "id": "mRv2i9i_qSxv",
        "outputId": "96f7c240-9fd8-4613-f6cc-07b561ecdcd9"
      },
      "outputs": [
        {
          "data": {
            "text/plain": [
              "Approved        1036781\n",
              "Canceled         316319\n",
              "Refused          290678\n",
              "Unused offer      26436\n",
              "Name: NAME_CONTRACT_STATUS, dtype: int64"
            ]
          },
          "execution_count": 9,
          "metadata": {},
          "output_type": "execute_result"
        }
      ],
      "source": [
        "train.NAME_CONTRACT_STATUS.value_counts()"
      ]
    },
    {
      "cell_type": "code",
      "execution_count": null,
      "metadata": {
        "id": "5wfaWm7lqSxw",
        "outputId": "9015a170-afb8-48f9-a6aa-e26a41d580d4"
      },
      "outputs": [
        {
          "data": {
            "text/html": [
              "<div>\n",
              "<style scoped>\n",
              "    .dataframe tbody tr th:only-of-type {\n",
              "        vertical-align: middle;\n",
              "    }\n",
              "\n",
              "    .dataframe tbody tr th {\n",
              "        vertical-align: top;\n",
              "    }\n",
              "\n",
              "    .dataframe thead th {\n",
              "        text-align: right;\n",
              "    }\n",
              "</style>\n",
              "<table border=\"1\" class=\"dataframe\">\n",
              "  <thead>\n",
              "    <tr style=\"text-align: right;\">\n",
              "      <th></th>\n",
              "      <th>APPROVAL</th>\n",
              "      <th>NAME_CONTRACT_STATUS</th>\n",
              "    </tr>\n",
              "  </thead>\n",
              "  <tbody>\n",
              "    <tr>\n",
              "      <td>0</td>\n",
              "      <td>1</td>\n",
              "      <td>Approved</td>\n",
              "    </tr>\n",
              "    <tr>\n",
              "      <td>1</td>\n",
              "      <td>1</td>\n",
              "      <td>Approved</td>\n",
              "    </tr>\n",
              "    <tr>\n",
              "      <td>2</td>\n",
              "      <td>1</td>\n",
              "      <td>Approved</td>\n",
              "    </tr>\n",
              "    <tr>\n",
              "      <td>3</td>\n",
              "      <td>1</td>\n",
              "      <td>Approved</td>\n",
              "    </tr>\n",
              "    <tr>\n",
              "      <td>4</td>\n",
              "      <td>0</td>\n",
              "      <td>Refused</td>\n",
              "    </tr>\n",
              "    <tr>\n",
              "      <td>5</td>\n",
              "      <td>1</td>\n",
              "      <td>Approved</td>\n",
              "    </tr>\n",
              "    <tr>\n",
              "      <td>6</td>\n",
              "      <td>0</td>\n",
              "      <td>Canceled</td>\n",
              "    </tr>\n",
              "    <tr>\n",
              "      <td>7</td>\n",
              "      <td>0</td>\n",
              "      <td>Canceled</td>\n",
              "    </tr>\n",
              "    <tr>\n",
              "      <td>8</td>\n",
              "      <td>0</td>\n",
              "      <td>Canceled</td>\n",
              "    </tr>\n",
              "    <tr>\n",
              "      <td>9</td>\n",
              "      <td>0</td>\n",
              "      <td>Canceled</td>\n",
              "    </tr>\n",
              "  </tbody>\n",
              "</table>\n",
              "</div>"
            ],
            "text/plain": [
              "   APPROVAL NAME_CONTRACT_STATUS\n",
              "0         1             Approved\n",
              "1         1             Approved\n",
              "2         1             Approved\n",
              "3         1             Approved\n",
              "4         0              Refused\n",
              "5         1             Approved\n",
              "6         0             Canceled\n",
              "7         0             Canceled\n",
              "8         0             Canceled\n",
              "9         0             Canceled"
            ]
          },
          "execution_count": 10,
          "metadata": {},
          "output_type": "execute_result"
        }
      ],
      "source": [
        "# Engineer categorical variable by ordinal number replacement\n",
        "\n",
        "approval_map = {'Approved':1,\n",
        "               'Canceled':0,\n",
        "               'Refused':0,\n",
        "               'Unused offer':0}\n",
        "\n",
        "train['APPROVAL'] = train.NAME_CONTRACT_STATUS.map(approval_map)\n",
        "train[['APPROVAL','NAME_CONTRACT_STATUS']].head(10)"
      ]
    },
    {
      "cell_type": "code",
      "execution_count": null,
      "metadata": {
        "id": "VUfwPuUxqSxx",
        "outputId": "988bfccf-d5f8-425f-968f-97885847adb9"
      },
      "outputs": [
        {
          "data": {
            "text/plain": [
              "1    0.620747\n",
              "0    0.379253\n",
              "Name: APPROVAL, dtype: float64"
            ]
          },
          "execution_count": 12,
          "metadata": {},
          "output_type": "execute_result"
        }
      ],
      "source": [
        "train.APPROVAL.value_counts(normalize=True,dropna=False)"
      ]
    },
    {
      "cell_type": "markdown",
      "metadata": {
        "id": "us8DzqivqSxy"
      },
      "source": [
        "### Tasks\n",
        "- Inspect the dataset\n",
        "- Determine numerical variables\n",
        "- Determine categorical variables\n",
        "- Determine number of nulls\n",
        "- Split in train test using random split\n",
        "- Build a baseline model using only numeric data that predicts APPROVAL field"
      ]
    },
    {
      "cell_type": "code",
      "execution_count": null,
      "metadata": {
        "id": "2FugifFsqSxz"
      },
      "outputs": [],
      "source": []
    }
  ],
  "metadata": {
    "kernelspec": {
      "display_name": "Python 3",
      "language": "python",
      "name": "python3"
    },
    "language_info": {
      "codemirror_mode": {
        "name": "ipython",
        "version": 3
      },
      "file_extension": ".py",
      "mimetype": "text/x-python",
      "name": "python",
      "nbconvert_exporter": "python",
      "pygments_lexer": "ipython3",
      "version": "3.7.4"
    },
    "colab": {
      "provenance": []
    }
  },
  "nbformat": 4,
  "nbformat_minor": 0
}